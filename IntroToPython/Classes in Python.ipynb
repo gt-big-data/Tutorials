{
 "cells": [
  {
   "cell_type": "markdown",
   "metadata": {},
   "source": [
    "# Classes and Stuff in Python\n",
    "\n",
    "Last week, we went over the functional programming aspects of Python. However, we can do more powerful things if we use classes and objects"
   ]
  },
  {
   "cell_type": "markdown",
   "metadata": {},
   "source": [
    "### Defining an Object\n",
    "\n",
    "We create new objects in Python like so:"
   ]
  },
  {
   "cell_type": "code",
   "execution_count": null,
   "metadata": {},
   "outputs": [],
   "source": [
    "class Cat(object):\n",
    "    static_attribute = \"something\"\n",
    "    \n",
    "    def __init__(self):\n",
    "        self.attribute = \"initial_value\""
   ]
  },
  {
   "cell_type": "markdown",
   "metadata": {},
   "source": [
    "This can be instantiated like so:"
   ]
  },
  {
   "cell_type": "code",
   "execution_count": null,
   "metadata": {},
   "outputs": [],
   "source": [
    "cat = Cat()\n",
    "print(cat.attribute)\n",
    "print(Cat.static_attribute)"
   ]
  },
  {
   "cell_type": "markdown",
   "metadata": {},
   "source": [
    "You can also have static methods by using the decorator"
   ]
  },
  {
   "cell_type": "code",
   "execution_count": null,
   "metadata": {},
   "outputs": [],
   "source": [
    "class Dog(object):\n",
    "    @staticmethod # This is called a decorator in Python\n",
    "    def bark():\n",
    "        print(\"Woof\")\n",
    "        \n",
    "Dog.bark()"
   ]
  },
  {
   "cell_type": "markdown",
   "metadata": {},
   "source": [
    "## Naming Arguments and Default Values\n",
    "\n",
    "Python also has some functionality for adding default values to Python. We can do this easily like so:"
   ]
  },
  {
   "cell_type": "code",
   "execution_count": null,
   "metadata": {},
   "outputs": [],
   "source": [
    "def print_something(the_string=\"This is default\"):\n",
    "    print(the_string)\n",
    "    \n",
    "print_something()\n",
    "print()\n",
    "print_something(\"Cool\")\n",
    "print_something(the_string=\"Even cooler\")"
   ]
  },
  {
   "cell_type": "markdown",
   "metadata": {},
   "source": [
    "Using named arguments means that we can pass in values in any order that we want, and Python will still understand it"
   ]
  },
  {
   "cell_type": "code",
   "execution_count": null,
   "metadata": {},
   "outputs": [],
   "source": [
    "def concatenate(str1=\"something\", str2=\"last part\"):\n",
    "    print(str1 + \" \" + str2)\n",
    "\n",
    "concatenate(\"lets do this first\", \"and this second\")\n",
    "concatenate(str2=\"which prints first?\", str1=\"this one?\")"
   ]
  },
  {
   "cell_type": "markdown",
   "metadata": {},
   "source": [
    "## Passing Values into Functions and Classes\n",
    "\n",
    "There are a couple of weird things about passing values into functions, namely *args* and *kwargs*. We use these when you don't know how many arguments will be passed into the function\n",
    "\n",
    "* `Args` are unnamed args\n",
    "* `Kwargs` are named args (i.e. a key value pair)\n",
    "\n",
    "For example:"
   ]
  },
  {
   "cell_type": "code",
   "execution_count": null,
   "metadata": {},
   "outputs": [],
   "source": [
    "def print_everything(*args):\n",
    "    for thing in args:\n",
    "        print(thing)\n",
    "        \n",
    "print_everything('apple', 'banana', 'cabbage')\n",
    "\n",
    "print()\n",
    "\n",
    "def table_things(**kwargs):\n",
    "    for name, value in kwargs.items():\n",
    "        print( '{0} = {1}'.format(name, value))\n",
    "\n",
    "table_things(apple = 'fruit', cabbage = 'vegetable')"
   ]
  }
 ],
 "metadata": {
  "kernelspec": {
   "display_name": "Python 3",
   "language": "python",
   "name": "python3"
  },
  "language_info": {
   "codemirror_mode": {
    "name": "ipython",
    "version": 3
   },
   "file_extension": ".py",
   "mimetype": "text/x-python",
   "name": "python",
   "nbconvert_exporter": "python",
   "pygments_lexer": "ipython3",
   "version": "3.7.0"
  }
 },
 "nbformat": 4,
 "nbformat_minor": 2
}
