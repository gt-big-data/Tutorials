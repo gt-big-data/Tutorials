{
 "cells": [
  {
   "cell_type": "markdown",
   "metadata": {},
   "source": [
    "# Best Practices for Coding in Python\n",
    "\n",
    "There are certain guides to coding in Python that are expected. These can be found in more detail in [the PEP 8](https://www.python.org/dev/peps/pep-0008/) guidelines. But for the basics, read on!\n",
    "\n",
    "These coding guidelines will be enforced with a CI tool, so make sure to follow these rules!"
   ]
  },
  {
   "cell_type": "markdown",
   "metadata": {},
   "source": [
    "Python doesn't care about whether you use Tabs or Spaces, and so in general the rule is to be consistent. Since this is hard to enforce in large projects, the rule as determined is to use **spaces** over **tabs**. Use **4 spaces** every time that you are indenting."
   ]
  },
  {
   "cell_type": "code",
   "execution_count": null,
   "metadata": {},
   "outputs": [],
   "source": []
  }
 ],
 "metadata": {
  "kernelspec": {
   "display_name": "Python 3",
   "language": "python",
   "name": "python3"
  },
  "language_info": {
   "codemirror_mode": {
    "name": "ipython",
    "version": 3
   },
   "file_extension": ".py",
   "mimetype": "text/x-python",
   "name": "python",
   "nbconvert_exporter": "python",
   "pygments_lexer": "ipython3",
   "version": "3.7.0"
  }
 },
 "nbformat": 4,
 "nbformat_minor": 2
}
