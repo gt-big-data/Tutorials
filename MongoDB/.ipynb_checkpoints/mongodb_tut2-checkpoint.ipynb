{
 "cells": [
  {
   "cell_type": "markdown",
   "metadata": {},
   "source": [
    "## Timestamp Range"
   ]
  },
  {
   "cell_type": "code",
   "execution_count": 1,
   "metadata": {
    "collapsed": true
   },
   "outputs": [],
   "source": [
    "from pymongo import MongoClient\n",
    "import matplotlib.pyplot as plt\n",
    "import numpy as np\n",
    "\n",
    "db = MongoClient('mongodb://143.215.138.132:27017')['big_data']"
   ]
  },
  {
   "cell_type": "code",
   "execution_count": null,
   "metadata": {
    "collapsed": true
   },
   "outputs": [],
   "source": [
    "# Sample Tweet:\n",
    "# {   \"_id\" : ObjectId(\"5819377b8548676a7239588c\"),\n",
    "#     \"guid\" : \"793613871756013568\",\n",
    "#     \"text\" : \"#incrediblessuperdanceparty can you play all of the Spanish  songs?!\",\n",
    "#     \"author_id\" : \"770418732665565185\",\n",
    "#     \"author_name\" : \"Kayle Figueiredo\",\n",
    "#     \"author_followers_count\" : 15,\n",
    "#     \"timestamp\" : 1478047266,\n",
    "#     \"lon\" : -83.804475,\n",
    "#     \"lat\" : 27.698681999999998,\n",
    "#     \"words\" : [ \"can\", \"you\", \"play\", \"all\", \"of\", \"the\", \"spanish\", \"songs\" ],\n",
    "#     \"keywords\" : [ \"play\", \"songs\", \"spanish\" ],\n",
    "#     \"hashtags\" : [ \"incrediblessuperdanceparty\" ],\n",
    "#     \"mentions_id\" : [ ],\n",
    "#     \"mentions_name\" : [ ],\n",
    "#     \"urls\" : [ ],\n",
    "#     \"favorite_count\" : 0,\n",
    "#     \"retweet_count\" : 0 }"
   ]
  },
  {
   "cell_type": "code",
   "execution_count": 2,
   "metadata": {
    "collapsed": true
   },
   "outputs": [],
   "source": [
    "def find_first_timestamp():\n",
    "    sort = {'$sort': {'timestamp': 1}}\n",
    "    limit  = {'$limit': 1}\n",
    "    pipeline = [sort, limit]\n",
    "    return list(db.tweet_subset.aggregate(pipeline))[0]['timestamp']"
   ]
  },
  {
   "cell_type": "code",
   "execution_count": 3,
   "metadata": {
    "collapsed": true
   },
   "outputs": [],
   "source": [
    "def find_last_timestamp():\n",
    "    sort = {'$sort': {'timestamp': -1}}\n",
    "    limit  = {'$limit': 1}\n",
    "    pipeline = [sort, limit]\n",
    "    return list(db.tweet_subset.aggregate(pipeline))[0]['timestamp']"
   ]
  },
  {
   "cell_type": "code",
   "execution_count": 4,
   "metadata": {
    "collapsed": true
   },
   "outputs": [],
   "source": [
    "def get_timestamp_list():\n",
    "    timestamp_list = []\n",
    "    for tweet in list(db.tweet_subset.find()):\n",
    "        timestamp_list.append(tweet['timestamp'])\n",
    "    return timestamp_list"
   ]
  },
  {
   "cell_type": "code",
   "execution_count": 5,
   "metadata": {},
   "outputs": [
    {
     "name": "stdout",
     "output_type": "stream",
     "text": [
      "1477088104\n",
      "CPU times: user 3.89 ms, sys: 2.01 ms, total: 5.89 ms\n",
      "Wall time: 5 s\n"
     ]
    }
   ],
   "source": [
    "%time print(find_first_timestamp())"
   ]
  },
  {
   "cell_type": "code",
   "execution_count": 6,
   "metadata": {},
   "outputs": [
    {
     "name": "stdout",
     "output_type": "stream",
     "text": [
      "1491638260\n",
      "CPU times: user 2.54 ms, sys: 2.64 ms, total: 5.18 ms\n",
      "Wall time: 5.05 s\n"
     ]
    }
   ],
   "source": [
    "%time print(find_last_timestamp())"
   ]
  },
  {
   "cell_type": "code",
   "execution_count": 7,
   "metadata": {},
   "outputs": [
    {
     "name": "stdout",
     "output_type": "stream",
     "text": [
      "1477088104\n",
      "CPU times: user 23.1 s, sys: 5.92 s, total: 29 s\n",
      "Wall time: 3min\n"
     ]
    }
   ],
   "source": [
    "%time print(min(get_timestamp_list()))"
   ]
  },
  {
   "cell_type": "code",
   "execution_count": 8,
   "metadata": {},
   "outputs": [
    {
     "name": "stdout",
     "output_type": "stream",
     "text": [
      "1491638260\n",
      "CPU times: user 21.3 s, sys: 5.67 s, total: 27 s\n",
      "Wall time: 2min 36s\n"
     ]
    }
   ],
   "source": [
    "%time print(max(get_timestamp_list()))"
   ]
  },
  {
   "cell_type": "markdown",
   "metadata": {},
   "source": [
    "## Histogram"
   ]
  },
  {
   "cell_type": "code",
   "execution_count": 9,
   "metadata": {},
   "outputs": [
    {
     "data": {
      "image/png": "[encoded data removed]",
      "text/plain": [
       "<matplotlib.figure.Figure at 0x1db93d050>"
      ]
     },
     "metadata": {},
     "output_type": "display_data"
    }
   ],
   "source": [
    "timestamp_list = get_timestamp_list()\n",
    "\n",
    "bins = np.linspace(find_first_timestamp(), find_last_timestamp(), 100)\n",
    "\n",
    "plt.hist(timestamp_list, bins=bins)\n",
    "\n",
    "plt.title('Tweet Timeline')\n",
    "plt.xlabel('Timestamp')\n",
    "plt.ylabel('Number of Tweets')\n",
    "\n",
    "plt.show()"
   ]
  },
  {
   "cell_type": "code",
   "execution_count": null,
   "metadata": {
    "collapsed": true
   },
   "outputs": [],
   "source": []
  }
 ],
 "metadata": {
  "kernelspec": {
   "display_name": "Python 3",
   "language": "python",
   "name": "python3"
  },
  "language_info": {
   "codemirror_mode": {
    "name": "ipython",
    "version": 3
   },
   "file_extension": ".py",
   "mimetype": "text/x-python",
   "name": "python",
   "nbconvert_exporter": "python",
   "pygments_lexer": "ipython3",
   "version": "3.7.1"
  }
 },
 "nbformat": 4,
 "nbformat_minor": 2
}
